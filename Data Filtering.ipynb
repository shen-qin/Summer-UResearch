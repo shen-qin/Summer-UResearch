{
 "cells": [
  {
   "cell_type": "code",
   "execution_count": 19,
   "id": "1bcb2c74",
   "metadata": {},
   "outputs": [],
   "source": [
    "import json\n",
    "import os\n",
    "\n",
    "\n",
    "data = []\n",
    "\n",
    "with open(\"Sample 300/results.jsonl\", \"r\") as file:\n",
    "    for line in file:\n",
    "        data.append(json.loads(line))"
   ]
  },
  {
   "cell_type": "code",
   "execution_count": 20,
   "id": "adc983de",
   "metadata": {},
   "outputs": [],
   "source": [
    "kaspersky_results=[]"
   ]
  },
  {
   "cell_type": "code",
   "execution_count": 21,
   "id": "575f18c6",
   "metadata": {},
   "outputs": [
    {
     "name": "stdout",
     "output_type": "stream",
     "text": [
      "Kaspersky Results:\n",
      "[None, 'HEUR:Trojan.Script.Generic', None, 'not-a-virus:HEUR:RiskTool.HTML.Miner.gen', 'HEUR:Trojan.Script.Generic', None, None, 'HEUR:Trojan.JS.Infect.gen', None, None, 'HEUR:Trojan.Script.Generic', None, None, None, None, 'HEUR:Trojan.Script.Generic', None, None, 'HEUR:Trojan.Script.Generic', 'HEUR:Trojan.JS.Miner.gen', None, None, 'HEUR:Trojan.Script.Generic', 'not-a-virus:HEUR:RiskTool.HTML.Miner.gen', None, 'HEUR:Hoax.HTML.Phish.gen', None, 'HEUR:Trojan.Script.Generic', None, None, None, None, 'HEUR:Trojan.Script.Generic', 'HEUR:Trojan.Script.Generic', None, None, 'HEUR:Trojan.Script.Generic', None, None, 'not-a-virus:HEUR:RiskTool.HTML.Miner.gen', None, None, 'not-a-virus:HEUR:RiskTool.HTML.Miner.gen', None, None, 'not-a-virus:HEUR:RiskTool.HTML.Miner.gen', None, 'Trojan.JS.AdInject.a', 'HEUR:Trojan.Script.Generic', 'HEUR:Trojan.Script.Generic', 'HEUR:Trojan.Script.Generic', None, 'HEUR:Trojan.Script.Generic', 'HEUR:Trojan.Script.Generic', 'HEUR:Trojan.Script.Generic', None, None, None, None, None, None, None, 'HEUR:Trojan.Script.Generic', 'HEUR:Trojan.Script.Generic', None, 'HEUR:Trojan.JS.Miner.gen', None, None, None, None, None, 'HEUR:Trojan.Script.Generic', 'HEUR:Trojan.Script.Generic', None, None, 'HEUR:Trojan.Script.Generic', 'not-a-virus:HEUR:RiskTool.HTML.Miner.gen', None, None, 'HEUR:Trojan.Script.Generic', None, 'HEUR:Trojan.Script.Generic', None, 'Trojan.JS.FBook.bk', None, None, None, None, 'not-a-virus:HEUR:RiskTool.HTML.Miner.gen', 'HEUR:Hoax.HTML.Phish.gen', 'HEUR:Trojan.Script.Generic', 'HEUR:Trojan.Script.Generic', 'not-a-virus:HEUR:RiskTool.HTML.Miner.gen', 'HEUR:Trojan-Downloader.Script.SLoad.gen', 'HEUR:Hoax.HTML.Phish.gen', 'HEUR:Trojan.JS.Miner.gen', 'HEUR:Trojan.JS.Miner.gen', None, 'HEUR:Trojan.Script.Generic', 'HEUR:Trojan.HTML.Phish.gen', None, None, 'not-a-virus:HEUR:RiskTool.HTML.Miner.gen', None, 'Trojan.JS.Redirector.afa', None, None, None, 'HEUR:Trojan.HTML.Phish.gen', None, None, 'HEUR:Trojan.Script.Generic', None, None, None, 'HEUR:Trojan.JS.Miner.gen', None, None, None, None, 'Trojan.JS.Agent.bpb', 'HEUR:Trojan.Script.Generic', 'HEUR:Trojan.HTML.Phish.gen', None, None, 'HEUR:Trojan.Script.Generic', 'HEUR:Trojan.Script.Generic', None, None, 'HEUR:Trojan.JS.Miner.gen', None, None, None, 'not-a-virus:HEUR:RiskTool.HTML.Miner.gen', 'HEUR:Trojan.Script.Generic', 'HEUR:Hoax.HTML.Phish.gen', None, None, None, None, 'not-a-virus:HEUR:RiskTool.HTML.Miner.gen', None, None, 'Trojan.JS.Redirector.qu', None, None, 'HEUR:Trojan.Script.Generic', 'HEUR:Trojan.JS.Miner.gen', 'HEUR:Trojan.Script.Generic', 'HEUR:Hoax.HTML.Phish.gen', 'HEUR:Trojan.Script.Generic', None, None, None, None, 'HEUR:Trojan.Script.Generic', 'Trojan-Downloader.JS.Iframe.dfw', None, None, 'HEUR:Trojan.Script.Generic', None, 'HEUR:Trojan.Script.Generic', None, 'HEUR:Trojan.Script.Generic', None, None, None, None, None, None, None, None, None, None, None, 'HEUR:Trojan.Script.Generic', 'HEUR:Trojan.Script.Generic', None, None, None, 'HEUR:Trojan.Script.Generic', None, None, None, 'HEUR:Trojan.Script.Generic', 'HEUR:Trojan.JS.Infect.gen', 'HEUR:Trojan.Script.Generic', None, None, None, None, None, 'HEUR:Hoax.HTML.Phish.gen', None, None, 'HEUR:Trojan.Script.Generic', None, 'HEUR:Trojan.Script.Generic', None, 'HEUR:Trojan.HTML.Phish.gen', 'HEUR:Trojan.Script.Generic', None, 'HEUR:Trojan.Script.Iframer', None, None, None, 'HEUR:Trojan.Script.Generic', 'HEUR:Trojan.Script.Generic', 'HEUR:Trojan.JS.Miner.gen', None, 'not-a-virus:HEUR:RiskTool.HTML.Miner.gen', None, 'Trojan.JS.FBook.av', 'HEUR:Trojan.Script.Generic', 'HEUR:Trojan.Script.Generic', 'HEUR:Trojan.Script.Generic', None, None, None, 'HEUR:Trojan.Script.Generic', 'not-a-virus:HEUR:RiskTool.HTML.Miner.gen', 'HEUR:Hoax.HTML.Phish.gen', 'HEUR:Trojan.Script.Generic', None, 'Trojan-Downloader.HTML.JScript.dj', None, 'HEUR:Trojan.Script.Generic', 'not-a-virus:HEUR:RiskTool.HTML.Miner.gen', 'HEUR:Trojan.Script.Generic', 'HEUR:Trojan.Script.Generic', None, 'HEUR:Trojan.HTML.Phish.gen', None, 'not-a-virus:HEUR:RiskTool.HTML.Miner.gen', 'not-a-virus:HEUR:RiskTool.HTML.Miner.gen', 'HEUR:Trojan.Script.Generic', 'HEUR:Hoax.HTML.Phish.gen', 'not-a-virus:HEUR:RiskTool.HTML.Miner.gen', 'HEUR:Trojan.HTML.Phish.gen', None, 'HEUR:Trojan.HTML.Phish.gen', None, None, 'Trojan-Downloader.JS.Iframe.dfw', None, 'HEUR:Trojan.Script.Generic', 'HEUR:Trojan.Script.Generic', 'HEUR:Trojan.Script.Generic', None, None, None, 'HEUR:Hoax.HTML.Phish.gen', None, None, None, 'HEUR:Trojan.Script.Generic', None, None, None, None, 'Trojan-Downloader.JS.Iframe.cvp', None, 'HEUR:Trojan.Script.Generic', 'HEUR:Trojan.Script.Generic', 'HEUR:Trojan.Script.Generic', None, 'HEUR:Trojan.Script.Generic', None, 'HEUR:Trojan.Script.Generic', 'HEUR:Hoax.HTML.Phish.gen', 'HEUR:Trojan.JS.Miner.gen', None, 'not-a-virus:HEUR:RiskTool.HTML.Miner.gen', None, None, None, 'Trojan-Dropper.VBS.Agent.bp', None, None, None, 'HEUR:Trojan.Script.Generic', 'HEUR:Trojan.JS.Miner.gen', None, None, None, 'HEUR:Trojan.Script.Generic', 'HEUR:Trojan.Script.Generic', None, None, 'not-a-virus:HEUR:RiskTool.HTML.Miner.gen', 'Trojan.JS.FBook.bk', None, None, None, None, 'HEUR:Trojan.Script.Generic', None, 'Hoax.HTML.Phish.zi', None, None]\n",
      "\n",
      "Result Counts:\n",
      "None: 167\n",
      "HEUR:Trojan.Script.Generic: 70\n",
      "not-a-virus:HEUR:RiskTool.HTML.Miner.gen: 19\n",
      "HEUR:Trojan.JS.Infect.gen: 2\n",
      "HEUR:Trojan.JS.Miner.gen: 10\n",
      "HEUR:Hoax.HTML.Phish.gen: 10\n",
      "Trojan.JS.AdInject.a: 1\n",
      "Trojan.JS.FBook.bk: 2\n",
      "HEUR:Trojan-Downloader.Script.SLoad.gen: 1\n",
      "HEUR:Trojan.HTML.Phish.gen: 7\n",
      "Trojan.JS.Redirector.afa: 1\n",
      "Trojan.JS.Agent.bpb: 1\n",
      "Trojan.JS.Redirector.qu: 1\n",
      "Trojan-Downloader.JS.Iframe.dfw: 2\n",
      "HEUR:Trojan.Script.Iframer: 1\n",
      "Trojan.JS.FBook.av: 1\n",
      "Trojan-Downloader.HTML.JScript.dj: 1\n",
      "Trojan-Downloader.JS.Iframe.cvp: 1\n",
      "Trojan-Dropper.VBS.Agent.bp: 1\n",
      "Hoax.HTML.Phish.zi: 1\n"
     ]
    }
   ],
   "source": [
    "for entry in data:\n",
    "    result = entry['result']['data']['attributes']['results']['Kaspersky']['result']\n",
    "    kaspersky_results.append(result)\n",
    "\n",
    "# Print out the results\n",
    "print(\"Kaspersky Results:\")\n",
    "print(kaspersky_results)\n",
    "\n",
    "# Count occurrences of each unique result\n",
    "from collections import Counter\n",
    "\n",
    "result_counts = Counter(kaspersky_results)\n",
    "\n",
    "# Print out the count for each category\n",
    "print(\"\\nResult Counts:\")\n",
    "for category, count in result_counts.items():\n",
    "    print(f\"{category}: {count}\")"
   ]
  },
  {
   "cell_type": "code",
   "execution_count": null,
   "id": "d1446b3e",
   "metadata": {},
   "outputs": [],
   "source": []
  },
  {
   "cell_type": "code",
   "execution_count": null,
   "id": "b5495987",
   "metadata": {},
   "outputs": [],
   "source": []
  },
  {
   "cell_type": "code",
   "execution_count": null,
   "id": "93f21a4f",
   "metadata": {},
   "outputs": [],
   "source": []
  },
  {
   "cell_type": "code",
   "execution_count": null,
   "id": "91b5afb8",
   "metadata": {},
   "outputs": [],
   "source": []
  },
  {
   "cell_type": "code",
   "execution_count": null,
   "id": "a81c35ae",
   "metadata": {},
   "outputs": [],
   "source": []
  }
 ],
 "metadata": {
  "kernelspec": {
   "display_name": "Python 3 (ipykernel)",
   "language": "python",
   "name": "python3"
  },
  "language_info": {
   "codemirror_mode": {
    "name": "ipython",
    "version": 3
   },
   "file_extension": ".py",
   "mimetype": "text/x-python",
   "name": "python",
   "nbconvert_exporter": "python",
   "pygments_lexer": "ipython3",
   "version": "3.9.16"
  }
 },
 "nbformat": 4,
 "nbformat_minor": 5
}
